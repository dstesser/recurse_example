{
 "cells": [
  {
   "cell_type": "markdown",
   "id": "82bb0c7b",
   "metadata": {},
   "source": [
    "## \n",
    "Write a program that prints out the numbers 1 to 100 (inclusive). If the number is divisible by 3, print Crackle instead of the number. If it's divisible by 5, print Pop. If it's divisible by both 3 and 5, print CracklePop. "
   ]
  },
  {
   "cell_type": "code",
   "execution_count": 23,
   "id": "282e2b90",
   "metadata": {},
   "outputs": [],
   "source": [
    "import numpy as np"
   ]
  },
  {
   "cell_type": "code",
   "execution_count": 3,
   "id": "b6910610",
   "metadata": {},
   "outputs": [
    {
     "data": {
      "text/plain": [
       "range(0, 101)"
      ]
     },
     "execution_count": 3,
     "metadata": {},
     "output_type": "execute_result"
    }
   ],
   "source": [
    "range(0,101)"
   ]
  },
  {
   "cell_type": "code",
   "execution_count": 22,
   "id": "da1406ec",
   "metadata": {
    "scrolled": true
   },
   "outputs": [
    {
     "name": "stdout",
     "output_type": "stream",
     "text": [
      "0.3333333333333333\n",
      "0.2\n",
      "0.6666666666666666\n",
      "0.4\n",
      "1.0\n",
      "0.6\n",
      "1.3333333333333333\n",
      "0.8\n",
      "1.6666666666666667\n",
      "1.0\n",
      "2.0\n",
      "1.2\n",
      "2.3333333333333335\n",
      "1.4\n",
      "2.6666666666666665\n",
      "1.6\n",
      "3.0\n",
      "1.8\n",
      "3.3333333333333335\n",
      "2.0\n",
      "3.6666666666666665\n",
      "2.2\n",
      "4.0\n",
      "2.4\n",
      "4.333333333333333\n",
      "2.6\n",
      "4.666666666666667\n",
      "2.8\n",
      "5.0\n",
      "3.0\n",
      "5.333333333333333\n",
      "3.2\n",
      "5.666666666666667\n",
      "3.4\n",
      "6.0\n",
      "3.6\n",
      "6.333333333333333\n",
      "3.8\n",
      "6.666666666666667\n",
      "4.0\n",
      "7.0\n",
      "4.2\n",
      "7.333333333333333\n",
      "4.4\n",
      "7.666666666666667\n",
      "4.6\n",
      "8.0\n",
      "4.8\n",
      "8.333333333333334\n",
      "5.0\n",
      "8.666666666666666\n",
      "5.2\n",
      "9.0\n",
      "5.4\n",
      "9.333333333333334\n",
      "5.6\n",
      "9.666666666666666\n",
      "5.8\n",
      "10.0\n",
      "6.0\n",
      "10.333333333333334\n",
      "6.2\n",
      "10.666666666666666\n",
      "6.4\n",
      "11.0\n",
      "6.6\n",
      "11.333333333333334\n",
      "6.8\n",
      "11.666666666666666\n",
      "7.0\n",
      "12.0\n",
      "7.2\n",
      "12.333333333333334\n",
      "7.4\n",
      "12.666666666666666\n",
      "7.6\n",
      "13.0\n",
      "7.8\n",
      "13.333333333333334\n",
      "8.0\n",
      "13.666666666666666\n",
      "8.2\n",
      "14.0\n",
      "8.4\n",
      "14.333333333333334\n",
      "8.6\n",
      "14.666666666666666\n",
      "8.8\n",
      "15.0\n",
      "9.0\n",
      "15.333333333333334\n",
      "9.2\n",
      "15.666666666666666\n",
      "9.4\n",
      "16.0\n",
      "9.6\n",
      "16.333333333333332\n",
      "9.8\n",
      "16.666666666666668\n",
      "10.0\n",
      "17.0\n",
      "10.2\n",
      "17.333333333333332\n",
      "10.4\n",
      "17.666666666666668\n",
      "10.6\n",
      "18.0\n",
      "10.8\n",
      "18.333333333333332\n",
      "11.0\n",
      "18.666666666666668\n",
      "11.2\n",
      "19.0\n",
      "11.4\n",
      "19.333333333333332\n",
      "11.6\n",
      "19.666666666666668\n",
      "11.8\n",
      "20.0\n",
      "12.0\n",
      "20.333333333333332\n",
      "12.2\n",
      "20.666666666666668\n",
      "12.4\n",
      "21.0\n",
      "12.6\n",
      "21.333333333333332\n",
      "12.8\n",
      "21.666666666666668\n",
      "13.0\n",
      "22.0\n",
      "13.2\n",
      "22.333333333333332\n",
      "13.4\n",
      "22.666666666666668\n",
      "13.6\n",
      "23.0\n",
      "13.8\n",
      "23.333333333333332\n",
      "14.0\n",
      "23.666666666666668\n",
      "14.2\n",
      "24.0\n",
      "14.4\n",
      "24.333333333333332\n",
      "14.6\n",
      "24.666666666666668\n",
      "14.8\n",
      "25.0\n",
      "15.0\n",
      "25.333333333333332\n",
      "15.2\n",
      "25.666666666666668\n",
      "15.4\n",
      "26.0\n",
      "15.6\n",
      "26.333333333333332\n",
      "15.8\n",
      "26.666666666666668\n",
      "16.0\n",
      "27.0\n",
      "16.2\n",
      "27.333333333333332\n",
      "16.4\n",
      "27.666666666666668\n",
      "16.6\n",
      "28.0\n",
      "16.8\n",
      "28.333333333333332\n",
      "17.0\n",
      "28.666666666666668\n",
      "17.2\n",
      "29.0\n",
      "17.4\n",
      "29.333333333333332\n",
      "17.6\n",
      "29.666666666666668\n",
      "17.8\n",
      "30.0\n",
      "18.0\n",
      "30.333333333333332\n",
      "18.2\n",
      "30.666666666666668\n",
      "18.4\n",
      "31.0\n",
      "18.6\n",
      "31.333333333333332\n",
      "18.8\n",
      "31.666666666666668\n",
      "19.0\n",
      "32.0\n",
      "19.2\n",
      "32.333333333333336\n",
      "19.4\n",
      "32.666666666666664\n",
      "19.6\n",
      "33.0\n",
      "19.8\n",
      "33.333333333333336\n",
      "20.0\n"
     ]
    }
   ],
   "source": [
    "for num in range(1,101):\n",
    "    print(num/3)\n",
    "    print(num/5)"
   ]
  },
  {
   "cell_type": "code",
   "execution_count": 53,
   "id": "f0b3dddc",
   "metadata": {},
   "outputs": [
    {
     "name": "stdout",
     "output_type": "stream",
     "text": [
      "1\n",
      "2\n",
      "Crackle\n",
      "4\n",
      "Pop\n",
      "Crackle\n",
      "7\n",
      "8\n",
      "Crackle\n",
      "Pop\n"
     ]
    }
   ],
   "source": [
    "for num in range(1,11):\n",
    "    elif str(num/3)[-1] == '0':\n",
    "        print(\"Crackle\")\n",
    "    \n",
    "    elif str(num/5)[-1] == '0':\n",
    "        print(\"Pop\")\n",
    "        \n",
    "    else:\n",
    "        print(num)"
   ]
  },
  {
   "cell_type": "code",
   "execution_count": 55,
   "id": "348fc91d",
   "metadata": {},
   "outputs": [
    {
     "name": "stdout",
     "output_type": "stream",
     "text": [
      "1\n",
      "2\n",
      "Crackle\n",
      "4\n",
      "Pop\n",
      "Crackle\n",
      "7\n",
      "8\n",
      "Crackle\n",
      "Pop\n",
      "11\n",
      "Crackle\n",
      "13\n",
      "14\n",
      "CracklePop\n",
      "16\n",
      "17\n",
      "Crackle\n",
      "19\n",
      "Pop\n",
      "Crackle\n",
      "22\n",
      "23\n",
      "Crackle\n",
      "Pop\n",
      "26\n",
      "Crackle\n",
      "28\n",
      "29\n",
      "CracklePop\n",
      "31\n",
      "32\n",
      "Crackle\n",
      "34\n",
      "Pop\n",
      "Crackle\n",
      "37\n",
      "38\n",
      "Crackle\n",
      "Pop\n",
      "41\n",
      "Crackle\n",
      "43\n",
      "44\n",
      "CracklePop\n",
      "46\n",
      "47\n",
      "Crackle\n",
      "49\n",
      "Pop\n",
      "Crackle\n",
      "52\n",
      "53\n",
      "Crackle\n",
      "Pop\n",
      "56\n",
      "Crackle\n",
      "58\n",
      "59\n",
      "CracklePop\n",
      "61\n",
      "62\n",
      "Crackle\n",
      "64\n",
      "Pop\n",
      "Crackle\n",
      "67\n",
      "68\n",
      "Crackle\n",
      "Pop\n",
      "71\n",
      "Crackle\n",
      "73\n",
      "74\n",
      "CracklePop\n",
      "76\n",
      "77\n",
      "Crackle\n",
      "79\n",
      "Pop\n",
      "Crackle\n",
      "82\n",
      "83\n",
      "Crackle\n",
      "Pop\n",
      "86\n",
      "Crackle\n",
      "88\n",
      "89\n",
      "CracklePop\n",
      "91\n",
      "92\n",
      "Crackle\n",
      "94\n",
      "Pop\n",
      "Crackle\n",
      "97\n",
      "98\n",
      "Crackle\n",
      "Pop\n"
     ]
    }
   ],
   "source": [
    "for num in range(1,101):\n",
    "    if str(num/3)[-1] == '0' and str(num/5)[-1] == '0':\n",
    "        print(\"CracklePop\")\n",
    "        \n",
    "    elif str(num/3)[-1] == '0':\n",
    "        print(\"Crackle\")\n",
    "    \n",
    "    elif str(num/5)[-1] == '0':\n",
    "        print(\"Pop\")\n",
    "        \n",
    "    else:\n",
    "        print(num)"
   ]
  },
  {
   "cell_type": "code",
   "execution_count": 46,
   "id": "903e35d0",
   "metadata": {},
   "outputs": [],
   "source": [
    "if str(3/3)[-1] == '0':\n",
    "    print(\"Crackle\")"
   ]
  },
  {
   "cell_type": "code",
   "execution_count": 14,
   "id": "49c2731c",
   "metadata": {},
   "outputs": [
    {
     "data": {
      "text/plain": [
       "float"
      ]
     },
     "execution_count": 14,
     "metadata": {},
     "output_type": "execute_result"
    }
   ],
   "source": [
    "type(3/3)"
   ]
  },
  {
   "cell_type": "code",
   "execution_count": 19,
   "id": "19609fd9",
   "metadata": {},
   "outputs": [
    {
     "data": {
      "text/plain": [
       "float"
      ]
     },
     "execution_count": 19,
     "metadata": {},
     "output_type": "execute_result"
    }
   ],
   "source": [
    "type(3/3)"
   ]
  },
  {
   "cell_type": "code",
   "execution_count": 20,
   "id": "b5dfd2dc",
   "metadata": {},
   "outputs": [
    {
     "data": {
      "text/plain": [
       "5.0"
      ]
     },
     "execution_count": 20,
     "metadata": {},
     "output_type": "execute_result"
    }
   ],
   "source": [
    "15/3"
   ]
  }
 ],
 "metadata": {
  "kernelspec": {
   "display_name": "Python 3 (ipykernel)",
   "language": "python",
   "name": "python3"
  },
  "language_info": {
   "codemirror_mode": {
    "name": "ipython",
    "version": 3
   },
   "file_extension": ".py",
   "mimetype": "text/x-python",
   "name": "python",
   "nbconvert_exporter": "python",
   "pygments_lexer": "ipython3",
   "version": "3.11.5"
  }
 },
 "nbformat": 4,
 "nbformat_minor": 5
}
